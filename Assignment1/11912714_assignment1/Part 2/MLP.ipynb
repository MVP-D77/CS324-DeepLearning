{
 "cells": [
  {
   "cell_type": "code",
   "execution_count": 1,
   "id": "5552252a",
   "metadata": {},
   "outputs": [],
   "source": [
    "from sklearn import datasets\n",
    "import numpy as np\n",
    "from matplotlib import pyplot as plt\n",
    "from train_mlp_numpy import *"
   ]
  },
  {
   "cell_type": "code",
   "execution_count": 2,
   "id": "9ea6641b",
   "metadata": {},
   "outputs": [],
   "source": [
    "x, y = datasets.make_moons(n_samples=2000, shuffle=True, noise=None, random_state=None)"
   ]
  },
  {
   "cell_type": "code",
   "execution_count": 3,
   "id": "bc61ebb3",
   "metadata": {},
   "outputs": [
    {
     "data": {
      "image/png": "[encoded data removed]",
      "text/plain": [
       "<Figure size 432x288 with 1 Axes>"
      ]
     },
     "metadata": {
      "needs_background": "light"
     },
     "output_type": "display_data"
    }
   ],
   "source": [
    "plt.scatter(x[0:2000,0],x[0:2000,1], color='b', marker='*')\n",
    "plt.title('Moon DataSet')\n",
    "plt.show()"
   ]
  },
  {
   "cell_type": "code",
   "execution_count": 4,
   "id": "a59e5e20",
   "metadata": {},
   "outputs": [],
   "source": [
    "training_inputs,training_labels,testing_inputs,testing_labels = generate()"
   ]
  },
  {
   "cell_type": "code",
   "execution_count": 5,
   "id": "9dd6923e",
   "metadata": {},
   "outputs": [],
   "source": [
    "\n",
    "# Default constants\n",
    "DNN_HIDDEN_UNITS_DEFAULT = '20'\n",
    "LEARNING_RATE_DEFAULT = 1e-2\n",
    "MAX_EPOCHS_DEFAULT = 1500\n",
    "EVAL_FREQ_DEFAULT = 10\n",
    "GRADIENT_DESCENT_MODE = 'stochastic'\n",
    "\n",
    "FLAGS = None\n",
    "parser = argparse.ArgumentParser()    \n",
    "parser.add_argument('--dnn_hidden_units', type = str, default = DNN_HIDDEN_UNITS_DEFAULT,\n",
    "                      help='Comma separated list of number of units in each hidden layer')\n",
    "parser.add_argument('--learning_rate', type = float, default = LEARNING_RATE_DEFAULT,\n",
    "                      help='Learning rate')\n",
    "parser.add_argument('--max_steps', type = int, default = MAX_EPOCHS_DEFAULT,\n",
    "                      help='Number of epochs to run trainer.')\n",
    "parser.add_argument('--eval_freq', type=int, default=EVAL_FREQ_DEFAULT,\n",
    "                          help='Frequency of evaluation on the test set')\n",
    "parser.add_argument('--gradient_descent_mode', type=str, default = GRADIENT_DESCENT_MODE,\n",
    "                          help='gradient descent mode of training')\n",
    "FLAGS, unparsed = parser.parse_known_args()"
   ]
  },
  {
   "cell_type": "code",
   "execution_count": 6,
   "id": "6c61bbee",
   "metadata": {},
   "outputs": [
    {
     "data": {
      "text/plain": [
       "'20'"
      ]
     },
     "execution_count": 6,
     "metadata": {},
     "output_type": "execute_result"
    }
   ],
   "source": [
    "FLAGS.dnn_hidden_units"
   ]
  },
  {
   "cell_type": "code",
   "execution_count": 7,
   "id": "ca3d38c0",
   "metadata": {},
   "outputs": [
    {
     "name": "stdout",
     "output_type": "stream",
     "text": [
      "==========This gradient descent mode is stochastic gradient descent==============\n",
      "Epoch 0 \n",
      " train_accuracy is 0.8992857142857142 \n",
      " test_accuracy is 0.875\n",
      "Epoch 100 \n",
      " train_accuracy is 1.0 \n",
      " test_accuracy is 1.0\n",
      "Epoch 200 \n",
      " train_accuracy is 1.0 \n",
      " test_accuracy is 1.0\n",
      "Epoch 300 \n",
      " train_accuracy is 1.0 \n",
      " test_accuracy is 1.0\n",
      "Epoch 400 \n",
      " train_accuracy is 1.0 \n",
      " test_accuracy is 1.0\n",
      "Epoch 500 \n",
      " train_accuracy is 1.0 \n",
      " test_accuracy is 1.0\n",
      "Epoch 600 \n",
      " train_accuracy is 1.0 \n",
      " test_accuracy is 1.0\n",
      "Epoch 700 \n",
      " train_accuracy is 1.0 \n",
      " test_accuracy is 1.0\n",
      "Epoch 800 \n",
      " train_accuracy is 1.0 \n",
      " test_accuracy is 1.0\n",
      "Epoch 900 \n",
      " train_accuracy is 1.0 \n",
      " test_accuracy is 1.0\n",
      "Epoch 1000 \n",
      " train_accuracy is 1.0 \n",
      " test_accuracy is 1.0\n",
      "Epoch 1100 \n",
      " train_accuracy is 1.0 \n",
      " test_accuracy is 1.0\n",
      "Epoch 1200 \n",
      " train_accuracy is 1.0 \n",
      " test_accuracy is 1.0\n",
      "Epoch 1300 \n",
      " train_accuracy is 1.0 \n",
      " test_accuracy is 1.0\n",
      "Epoch 1400 \n",
      " train_accuracy is 1.0 \n",
      " test_accuracy is 1.0\n"
     ]
    }
   ],
   "source": [
    "hidden_list = FLAGS.dnn_hidden_units.split(',')\n",
    "n_hidden = list(map(int,hidden_list))\n",
    "mlp = MLP(2, n_hidden, 2, FLAGS.learning_rate)\n",
    "train_accuracy = list()\n",
    "test_accuracy = list()\n",
    "epoch_list = list()\n",
    "descent = FLAGS.gradient_descent_mode\n",
    "if FLAGS.gradient_descent_mode == 'batch':\n",
    "    print(\"==========This gradient descent mode is batch gradient descent==============\")\n",
    "else:\n",
    "    print(\"==========This gradient descent mode is stochastic gradient descent==============\")\n",
    "\n",
    "for epoch in range(FLAGS.max_steps):\n",
    "\n",
    "    for index, training_input in enumerate(training_inputs):\n",
    "        if descent == 'stochastic':\n",
    "            mlp.clear_descent()\n",
    "        # forwarding and backwarding is the same\n",
    "        training_label = training_labels[index]\n",
    "        mlp.forward(training_input)\n",
    "        mlp.lossFunction(training_label)\n",
    "        mlp.backward()\n",
    "\n",
    "        if descent == 'stochastic':\n",
    "            mlp.upadte_parameters()\n",
    "\n",
    "    if descent == 'batch':\n",
    "        mlp.upadte_parameters(len(training_inputs))\n",
    "        mlp.clear_descent()\n",
    "\n",
    "    if epoch%FLAGS.eval_freq == 0:\n",
    "        epoch_list.append(epoch)\n",
    "        # calculate accuracy of train\n",
    "        train_accur_temp = calculate_accuracy(mlp,training_inputs,training_labels)\n",
    "        train_accuracy.append(train_accur_temp)\n",
    "        # calculate accuracy of train\n",
    "        test_accur_temp = calculate_accuracy(mlp,testing_inputs,testing_labels)\n",
    "        test_accuracy.append(test_accur_temp)\n",
    "        if(epoch%100 ==0):\n",
    "            print(\"Epoch\",epoch,\"\\n\",\"train_accuracy is\",train_accur_temp,\"\\n\",\"test_accuracy is\",test_accur_temp)"
   ]
  },
  {
   "cell_type": "code",
   "execution_count": 8,
   "id": "3289170b",
   "metadata": {},
   "outputs": [
    {
     "name": "stdout",
     "output_type": "stream",
     "text": [
      "150\n",
      "150\n",
      "150\n"
     ]
    }
   ],
   "source": [
    "print(len(epoch_list))\n",
    "print(len(train_accuracy))\n",
    "print(len(test_accuracy))"
   ]
  },
  {
   "cell_type": "code",
   "execution_count": 9,
   "id": "99fa0f91",
   "metadata": {},
   "outputs": [
    {
     "data": {
      "image/png": "[encoded data removed]",
      "text/plain": [
       "<Figure size 432x288 with 1 Axes>"
      ]
     },
     "metadata": {
      "needs_background": "light"
     },
     "output_type": "display_data"
    }
   ],
   "source": [
    "x_axis = [i for i in range(1, len(train_accuracy) + 1)]\n",
    "plt.ylim(0.7,1.1)\n",
    "plt.plot(x_axis, train_accuracy, c='red', label='training accuracy')\n",
    "plt.plot(x_axis, test_accuracy, c='blue', label='testing accuracy')\n",
    "\n",
    "plt.legend(loc='upper left')\n",
    "plt.xlabel('epoch')\n",
    "plt.ylabel('Accuracy')\n",
    "plt.show()"
   ]
  },
  {
   "cell_type": "code",
   "execution_count": 10,
   "id": "e4f337f2",
   "metadata": {},
   "outputs": [
    {
     "name": "stdout",
     "output_type": "stream",
     "text": [
      "==========This gradient descent mode is batch gradient descent==============\n",
      "Epoch 0 \n",
      " train_accuracy is 0.665 \n",
      " test_accuracy is 0.645\n",
      "Epoch 100 \n",
      " train_accuracy is 0.6978571428571428 \n",
      " test_accuracy is 0.7183333333333334\n",
      "Epoch 200 \n",
      " train_accuracy is 0.7478571428571429 \n",
      " test_accuracy is 0.7583333333333333\n",
      "Epoch 300 \n",
      " train_accuracy is 0.8221428571428572 \n",
      " test_accuracy is 0.8466666666666667\n",
      "Epoch 400 \n",
      " train_accuracy is 0.8521428571428571 \n",
      " test_accuracy is 0.8666666666666667\n",
      "Epoch 500 \n",
      " train_accuracy is 0.8642857142857143 \n",
      " test_accuracy is 0.8833333333333333\n",
      "Epoch 600 \n",
      " train_accuracy is 0.875 \n",
      " test_accuracy is 0.8933333333333333\n",
      "Epoch 700 \n",
      " train_accuracy is 0.8842857142857142 \n",
      " test_accuracy is 0.9\n",
      "Epoch 800 \n",
      " train_accuracy is 0.8921428571428571 \n",
      " test_accuracy is 0.9083333333333333\n",
      "Epoch 900 \n",
      " train_accuracy is 0.8985714285714286 \n",
      " test_accuracy is 0.9083333333333333\n",
      "Epoch 1000 \n",
      " train_accuracy is 0.9035714285714286 \n",
      " test_accuracy is 0.9116666666666666\n",
      "Epoch 1100 \n",
      " train_accuracy is 0.9085714285714286 \n",
      " test_accuracy is 0.915\n",
      "Epoch 1200 \n",
      " train_accuracy is 0.9107142857142857 \n",
      " test_accuracy is 0.9216666666666666\n",
      "Epoch 1300 \n",
      " train_accuracy is 0.915 \n",
      " test_accuracy is 0.9216666666666666\n",
      "Epoch 1400 \n",
      " train_accuracy is 0.9157142857142857 \n",
      " test_accuracy is 0.9233333333333333\n"
     ]
    },
    {
     "data": {
      "image/png": "[encoded data removed]",
      "text/plain": [
       "<Figure size 432x288 with 1 Axes>"
      ]
     },
     "metadata": {
      "needs_background": "light"
     },
     "output_type": "display_data"
    }
   ],
   "source": [
    "%run train_mlp_numpy.py --gradient_descent_mode='batch'"
   ]
  },
  {
   "cell_type": "code",
   "execution_count": null,
   "id": "b4a563b2",
   "metadata": {},
   "outputs": [],
   "source": []
  }
 ],
 "metadata": {
  "kernelspec": {
   "display_name": "Python 3 (ipykernel)",
   "language": "python",
   "name": "python3"
  },
  "language_info": {
   "codemirror_mode": {
    "name": "ipython",
    "version": 3
   },
   "file_extension": ".py",
   "mimetype": "text/x-python",
   "name": "python",
   "nbconvert_exporter": "python",
   "pygments_lexer": "ipython3",
   "version": "3.8.12"
  }
 },
 "nbformat": 4,
 "nbformat_minor": 5
}
